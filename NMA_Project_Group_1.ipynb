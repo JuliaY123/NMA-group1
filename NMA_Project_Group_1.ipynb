{
  "cells": [
    {
      "cell_type": "markdown",
      "metadata": {
        "id": "c2ueYfnZ9867"
      },
      "source": [
        "# Investigating RNNs and RL using the N-back cognitive task\n",
        "\n",
        "**NMA 2023 Group 1 Project**\n",
        "\n",
        "__Content creators:__ Alan Astudilo, Campbell Border, Disheng, Julia Yin, Koffivi\n",
        "\n",
        "__Pod TA:__ Suryanarayanan Nagar Anthel Venkatesh\n",
        "\n",
        "__Project Mentor:__ "
      ]
    },
    {
      "cell_type": "markdown",
      "metadata": {},
      "source": [
        "---\n",
        "# Objective\n",
        "\n",
        "- \n",
        "\n",
        "- \n",
        "---"
      ]
    },
    {
      "cell_type": "markdown",
      "metadata": {
        "id": "pwxGrBIy-jz4"
      },
      "source": [
        "# Project Design\n",
        "---"
      ]
    },
    {
      "cell_type": "markdown",
      "metadata": {
        "id": "mb2cp2_wCSCI"
      },
      "source": [
        "# Setup"
      ]
    },
    {
      "cell_type": "markdown",
      "metadata": {},
      "source": [
        "## Install Dependencies"
      ]
    },
    {
      "cell_type": "code",
      "execution_count": 533,
      "metadata": {
        "colab": {
          "base_uri": "https://localhost:8080/"
        },
        "id": "d6eFAloFCZog",
        "outputId": "d2f4791b-85e9-4176-8a30-c205f952f451"
      },
      "outputs": [
        {
          "name": "stdout",
          "output_type": "stream",
          "text": [
            "Note: you may need to restart the kernel to use updated packages.\n",
            "Note: you may need to restart the kernel to use updated packages.\n",
            "Note: you may need to restart the kernel to use updated packages.\n",
            "Note: you may need to restart the kernel to use updated packages.\n",
            "^C\n",
            "\u001b[31mERROR: Operation cancelled by user\u001b[0m\u001b[31m\n",
            "\u001b[0mNote: you may need to restart the kernel to use updated packages.\n",
            "Note: you may need to restart the kernel to use updated packages.\n",
            "Note: you may need to restart the kernel to use updated packages.\n",
            "Note: you may need to restart the kernel to use updated packages.\n"
          ]
        }
      ],
      "source": [
        "# @title Install dependencies\n",
        "%pip install jedi --quiet\n",
        "%pip install --upgrade pip setuptools wheel --quiet\n",
        "%pip install numpy==1.23.3 --quiet --ignore-installed\n",
        "%pip install gymnasium --quiet\n",
        "%pip install torch --quiet\n",
        "\n",
        "%pip install matplotlib --quiet\n",
        "%pip uninstall seaborn -y --quiet\n",
        "%pip install seaborn --quiet\n",
        "\n",
        "#!pip install trfl --quiet\n"
      ]
    },
    {
      "cell_type": "code",
      "execution_count": 539,
      "metadata": {
        "id": "pEza9W8KDK1y"
      },
      "outputs": [],
      "source": [
        "# @title Imports\n",
        "\n",
        "import numpy as np\n",
        "from numpy.random import default_rng\n",
        "import gymnasium as gym\n",
        "from gymnasium import spaces\n",
        "import torch\n",
        "from torch import nn\n",
        "import matplotlib.pyplot as plt\n",
        "import seaborn as sns"
      ]
    },
    {
      "cell_type": "markdown",
      "metadata": {},
      "source": [
        "## Figure settings"
      ]
    },
    {
      "cell_type": "code",
      "execution_count": 537,
      "metadata": {
        "cellView": "form",
        "id": "Zb0JSXLiECA6"
      },
      "outputs": [],
      "source": [
        "# @title Figure settings\n",
        "from IPython.display import clear_output, display, HTML\n",
        "%matplotlib inline\n",
        "sns.set()"
      ]
    },
    {
      "cell_type": "markdown",
      "metadata": {},
      "source": [
        "---\n",
        "# Background\n",
        "\n",
        "## Replace with our own literature review\n",
        "\n",
        "- Cognitive scientists use standard lab tests to tap into specific processes in the brain and behavior. Some examples of those tests are Stroop, N-back, Digit Span, TMT (Trail making tests), and WCST (Wisconsin Card Sorting Tests).\n",
        "\n",
        "- Despite an extensive body of research that explains human performance using descriptive what-models, we still need a more sophisticated approach to gain a better understanding of the underlying processes (i.e., a how-model).\n",
        "\n",
        "- Interestingly, many of such tests can be thought of as a continuous stream of stimuli and corresponding actions, that is in consonant with the RL formulation. In fact, RL itself is in part motivated by how the brain enables goal-directed behaviors using reward systems, making it a good choice to explain human performance.\n",
        "\n",
        "- One behavioral test example would be the N-back task.\n",
        "\n",
        "  - In the N-back, participants view a sequence of stimuli, one by one, and are asked to categorize each stimulus as being either match or non-match. Stimuli are usually numbers, and feedback is given at both timestep and trajectory levels.\n",
        "\n",
        "  - The agent is rewarded when its response matches the stimulus that was shown N steps back in the episode. A simpler version of the N-back uses two-choice action schema, that is match vs non-match. Once the present stimulus matches the one presented N step back, then the agent is expected to respond to it as being a `match`.\n",
        "\n",
        "\n",
        "- Given a trained RL agent, we then find correlates of its fitted parameters with the brain mechanisms. The most straightforward composition could be the correlation of model parameters with the brain activities."
      ]
    },
    {
      "cell_type": "markdown",
      "metadata": {},
      "source": [
        "## Datasets\n",
        "\n",
        "- HCP WM task ([NMA-CN HCP notebooks](https://github.com/NeuromatchAcademy/course-content/tree/master/projects/fMRI))\n",
        "\n",
        "Any dataset that used cognitive tests would work.\n",
        "Question: limit to behavioral data vs fMRI?\n",
        "Question: Which stimuli and actions to use?\n",
        "classic tests can be modeled using 1) bounded symbolic stimuli/actions (e.g., A, B, C), but more sophisticated one would require texts or images (e.g., face vs neutral images in social stroop dataset)\n",
        "The HCP dataset from NMA-CN contains behavioral and imaging data for 7 cognitive tests including various versions of N-back.\n",
        "\n",
        "### We need to copy the data and see what's happening"
      ]
    },
    {
      "cell_type": "markdown",
      "metadata": {},
      "source": [
        "## N-back task\n",
        "\n",
        "In the N-back task, participants view a sequence of stimuli, one per time, and are asked to categorize each stimulus as being either match or non-match. Stimuli are usually numbers, and feedbacks are given at both timestep and trajectory levels.\n",
        "\n",
        "In a typical neuro setup, both accuracy and response time are measured, but here, for the sake of brevity, we focus only on accuracy of responses."
      ]
    },
    {
      "cell_type": "markdown",
      "metadata": {
        "id": "ddUxN-0M-842"
      },
      "source": [
        "---\n",
        "## Implementation scheme"
      ]
    },
    {
      "cell_type": "markdown",
      "metadata": {},
      "source": [
        "### Environment\n",
        "### I am just copying what's on the template to here\n",
        "The following cell implments N-back envinronment, that we later use to train a RL agent on human data. It is capable of performing two kinds of simulation:\n",
        "- rewards the agent once the action was correct (i.e., a normative model of the environment).\n",
        "- receives human data (or mock data if you prefer), and returns what participants performed as the observation. This is more useful for preference-based RL."
      ]
    },
    {
      "cell_type": "code",
      "execution_count": 498,
      "metadata": {
        "id": "0-62uNYF-_9j"
      },
      "outputs": [],
      "source": [
        "# @title Define environment\n",
        "\n",
        "# N-back environment\n",
        "class NBack(gym.Env):\n",
        "\n",
        "    # N = 2\n",
        "    # step_count =        [ 0  1  2  3  4  5  6 ]\n",
        "    # sequence =          [ a  b  c  d  a  d  a ]\n",
        "    # correct actions =   [ ~  ~  0  0  0  1  1 ]\n",
        "\n",
        "    # actions =           [ ~  ~  1  0  0  1  0 ]\n",
        "    # reward_class =      [ ~  ~  FP TN TN TP FN]\n",
        "    # reward =            [ ~  ~  -1  0  0  1 -1]\n",
        "\n",
        "  # Rewards input is structured as (TP, TN, FP, FN) (positive being matches)\n",
        "  def __init__(self, N=2, num_targets=None, episode_length=25, rewards=(1, 0, -1, -1), seed=2023):\n",
        "\n",
        "    self.N = N\n",
        "    self.num_targets = num_targets\n",
        "    self.episode_length = episode_length\n",
        "    self.rewards = rewards\n",
        "    super().reset(seed=seed)\n",
        "\n",
        "    # Check that parameters are legal\n",
        "    assert(episode_length >= N + 1 and episode_length <= 32)\n",
        "\n",
        "    # Define rewards, observation space and action space \n",
        "    self.reward_range = (min(rewards), max(rewards))  # Range of rewards based on inputs\n",
        "    self.observation_space = spaces.Discrete(10)      # Single variable with 10 possibilities if using digits or 26 if using letters\n",
        "    self.action_space = spaces.Discrete(2)            # 0 (No match) or 1 (Match)\n",
        "\n",
        "  def step(self, action):\n",
        "\n",
        "    # Calculate reward\n",
        "    if self.step_count >= self.N:\n",
        "      if (self.correct_actions[self.step_count - self.N]): # Match\n",
        "        reward = self.rewards[0] if action else self.rewards[3] # TP if matched else FN\n",
        "      else: # No match\n",
        "        reward = self.rewards[2] if action else self.rewards[1] # FP if matches else TN\n",
        "    else:\n",
        "      reward = None\n",
        "\n",
        "    # Return next character or None\n",
        "    self.step_count += 1\n",
        "    if self.step_count < self.episode_length:\n",
        "      return self.sequence[self.step_count], self.step_count, reward, False\n",
        "    else:\n",
        "      return None, self.step_count, reward, True\n",
        "\n",
        "  def reset(self, seed=None):\n",
        "\n",
        "    # Seed RNG\n",
        "    super().reset(seed=seed)\n",
        "\n",
        "    # Generate sequence and correct actions\n",
        "    self._generate_sequence()\n",
        "    self._get_correct_actions()\n",
        "\n",
        "    # Observation is first character\n",
        "    self.step_count = 0\n",
        "    observation = self.sequence[self.step_count]\n",
        "\n",
        "    return observation, self.step_count, None, False\n",
        "  \n",
        "  def _generate_sequence(self):\n",
        "\n",
        "    # Generate sequence of length self.episode_length (with correct number of targets)\n",
        "    while True:\n",
        "\n",
        "      self.sequence = np.random.randint(0, 9, size=(self.episode_length))\n",
        "      if not self.num_targets or sum(self._get_correct_actions()) == self.num_targets:\n",
        "        break;\n",
        "\n",
        "      # positions = np.arange(2, self.episode_length)\n",
        "      # match_positions = self.np_random.choice(positions, size=self.num_targets)\n",
        "      # match_positions = np.concatenate((match_positions, match_positions - self.N))\n",
        "      # print(match_positions)\n",
        "      # self.sequence = np.ones(self.episode_length)\n",
        "      \n",
        "  def _get_correct_actions(self):\n",
        "    self.correct_actions = np.array([int(self.sequence[i] == self.sequence[i + self.N]) for i in range(self.episode_length - self.N)])\n",
        "    return self.correct_actions\n",
        "\n",
        "  def get_correct_action(self):\n",
        "    return self.correct_actions[self.step_count - 1]"
      ]
    },
    {
      "cell_type": "code",
      "execution_count": null,
      "metadata": {
        "cellView": "form",
        "id": "buTmgeVJe78z"
      },
      "outputs": [],
      "source": [
        "# @title Test environment\n",
        "\n",
        "# env = NBack()\n",
        "# print(f\"First char is {env.reset()[0]}\")\n",
        "# print(env.sequence)\n",
        "# print(env.correct_actions)\n",
        "# for i in range(16):\n",
        "#   print(env.step(i % 2))\n",
        "\n",
        "env = NBack(num_targets=5)\n",
        "env.reset()\n",
        "print(env.sequence)\n",
        "print(env.correct_actions)\n",
        "print(sum(env.correct_actions))\n"
      ]
    },
    {
      "cell_type": "markdown",
      "metadata": {},
      "source": [
        "### Define a random agent"
      ]
    },
    {
      "cell_type": "code",
      "execution_count": null,
      "metadata": {},
      "outputs": [],
      "source": [
        "## please write your code for random agents here\n",
        "\n",
        "# Random agent\n",
        "class RandomAgent(nn.Module):\n",
        "    \n",
        "    "
      ]
    },
    {
      "cell_type": "markdown",
      "metadata": {},
      "source": [
        "### Define a simple Q-learning agent"
      ]
    },
    {
      "cell_type": "code",
      "execution_count": null,
      "metadata": {},
      "outputs": [],
      "source": []
    },
    {
      "cell_type": "markdown",
      "metadata": {},
      "source": [
        "### Define a Recurrent Deep Q-learning Agent (RDQN)"
      ]
    },
    {
      "cell_type": "code",
      "execution_count": null,
      "metadata": {},
      "outputs": [],
      "source": []
    },
    {
      "cell_type": "markdown",
      "metadata": {
        "id": "OaBV8Quh-ypJ"
      },
      "source": [
        "# Section 4: Model(s)"
      ]
    },
    {
      "cell_type": "code",
      "execution_count": 647,
      "metadata": {
        "id": "Q7TAlHUZLjnc"
      },
      "outputs": [
        {
          "ename": "SyntaxError",
          "evalue": "unexpected EOF while parsing (3220473413.py, line 4)",
          "output_type": "error",
          "traceback": [
            "\u001b[0;36m  File \u001b[0;32m\"/var/folders/g4/tfd3sjg137dg4c41qxh6l7zw0000gn/T/ipykernel_47468/3220473413.py\"\u001b[0;36m, line \u001b[0;32m4\u001b[0m\n\u001b[0;31m    \u001b[0m\n\u001b[0m    ^\u001b[0m\n\u001b[0;31mSyntaxError\u001b[0m\u001b[0;31m:\u001b[0m unexpected EOF while parsing\n"
          ]
        }
      ],
      "source": [
        "# Random agent\n",
        "class RandomAgent(nn.Module):\n",
        "    \n",
        "    def __init__(self, env):\n",
        "        super().__init__()\n",
        "        self.env = env\n",
        "\n",
        "    def choose_action(self, char):\n",
        "\n",
        "        # Choose match/no match randomly\n",
        "        return np.random.randint(0, 2)\n",
        "\n",
        "    def test(self, num_episodes):\n",
        "        \n",
        "        tp_percent = np.zeros(num_episodes)\n",
        "        fp_percent = np.zeros_like(tp_percent)\n",
        "        fn_percent = np.zeros_like(tp_percent)\n",
        "\n",
        "        for i in range(num_episodes):\n",
        "\n",
        "            actions = np.zeros(self.env.episode_length, dtype=int)\n",
        "            char, step_count, reward, done = self.env.reset()\n",
        "\n",
        "            while char is not None:\n",
        "                action = self.choose_action(char)\n",
        "                actions[step_count] = action\n",
        "                char, step_count, reward, done = self.env.step(action)\n",
        "            \n",
        "            # Get episode data\n",
        "            actions = actions[self.env.N:]\n",
        "            correct_actions = self.env.correct_actions\n",
        "            tp_percent[i] = np.dot(actions, correct_actions) #/ sum(correct_actions)\n",
        "            fp_percent[i] = np.dot(actions, 1 - correct_actions) #/ sum(1 - correct_actions)\n",
        "            fn_percent[i] = np.dot(1 - actions, correct_actions) #/ sum(correct_actions)\n",
        "\n",
        "        return tp_percent, fp_percent, fn_percent\n",
        "\n",
        "        "
      ]
    },
    {
      "cell_type": "code",
      "execution_count": 651,
      "metadata": {},
      "outputs": [
        {
          "data": {
            "image/png": "[encoded data removed]",
            "text/plain": [
              "<Figure size 1200x400 with 3 Axes>"
            ]
          },
          "metadata": {},
          "output_type": "display_data"
        }
      ],
      "source": [
        "# @title Test random agent\n",
        "# Create environment, random agent and test\n",
        "N = 2\n",
        "n = 25\n",
        "T = 5\n",
        "env = NBack(N=2, episode_length=n, num_targets=T)\n",
        "agent = RandomAgent(env=env)\n",
        "results = agent.test(10000)\n",
        "\n",
        "fig = plt.figure(figsize=(12, 4))\n",
        "plt.subplot(1, 3, 1)\n",
        "fig.suptitle(f\"Random agent with N={env.N}, n={env.episode_length}, T={env.num_targets}\")\n",
        "sns.histplot(results[0], stat=\"density\", bins=4, discrete=True)\n",
        "plt.xlabel('True positives')\n",
        "\n",
        "plt.subplot(1, 3, 2)\n",
        "sns.histplot(results[1], stat=\"density\", bins=17, discrete=True)\n",
        "plt.xlabel('False positives')\n",
        "plt.ylabel('')\n",
        "\n",
        "plt.subplot(1, 3, 3)\n",
        "sns.histplot(results[2], stat=\"density\", bins=4, discrete=True)\n",
        "plt.xlabel('False negatives')\n",
        "plt.ylabel('')\n",
        "plt.show()"
      ]
    },
    {
      "cell_type": "code",
      "execution_count": null,
      "metadata": {
        "id": "Y-y_Z8yu_-1v"
      },
      "outputs": [],
      "source": [
        "# RNN\n",
        "\n",
        "class SimpleRNN(nn.Module):\n",
        "    \n",
        "    def __init__(self):\n",
        "        super().__init__()"
      ]
    }
  ],
  "metadata": {
    "colab": {
      "provenance": []
    },
    "kernelspec": {
      "display_name": "allen",
      "language": "python",
      "name": "allen"
    },
    "language_info": {
      "codemirror_mode": {
        "name": "ipython",
        "version": 3
      },
      "file_extension": ".py",
      "mimetype": "text/x-python",
      "name": "python",
      "nbconvert_exporter": "python",
      "pygments_lexer": "ipython3",
      "version": "3.11.4"
    }
  },
  "nbformat": 4,
  "nbformat_minor": 0
}
