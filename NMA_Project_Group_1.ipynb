{
  "cells": [
    {
      "cell_type": "markdown",
      "metadata": {
        "id": "c2ueYfnZ9867"
      },
      "source": [
        "# Investigating RNNs and RL using the N-back cognitive task\n",
        "\n",
        "**NMA 2023 Group 1 Project**\n",
        "\n",
        "__Content creators:__ Aland Astudillo, Campbell Border, Disheng, Julia Yin, Koffivi\n",
        "\n",
        "__Pod TA:__ Suryanarayanan Nagar Anthel Venkatesh\n",
        "\n",
        "__Project Mentor:__ "
      ]
    },
    {
      "cell_type": "markdown",
      "metadata": {},
      "source": [
        "---\n",
        "# Objective\n",
        "\n",
        "- \n",
        "\n",
        "- \n",
        "---"
      ]
    },
    {
      "cell_type": "markdown",
      "metadata": {
        "id": "pwxGrBIy-jz4"
      },
      "source": [
        "# Project Design\n",
        "---"
      ]
    },
    {
      "cell_type": "markdown",
      "metadata": {
        "id": "mb2cp2_wCSCI"
      },
      "source": [
        "# Setup"
      ]
    },
    {
      "cell_type": "markdown",
      "metadata": {},
      "source": [
        "## Install Dependencies"
      ]
    },
    {
      "cell_type": "code",
      "execution_count": 1,
      "metadata": {
        "colab": {
          "base_uri": "https://localhost:8080/"
        },
        "id": "d6eFAloFCZog",
        "outputId": "d2f4791b-85e9-4176-8a30-c205f952f451"
      },
      "outputs": [
        {
          "name": "stdout",
          "output_type": "stream",
          "text": [
            "Note: you may need to restart the kernel to use updated packages.\n",
            "Note: you may need to restart the kernel to use updated packages.\n",
            "Note: you may need to restart the kernel to use updated packages.\n",
            "Note: you may need to restart the kernel to use updated packages.\n",
            "Note: you may need to restart the kernel to use updated packages.\n",
            "Note: you may need to restart the kernel to use updated packages.\n",
            "Note: you may need to restart the kernel to use updated packages.\n",
            "Note: you may need to restart the kernel to use updated packages.\n"
          ]
        }
      ],
      "source": [
        "# @title Install dependencies\n",
        "%pip install jedi --quiet\n",
        "%pip install --upgrade pip setuptools wheel --quiet\n",
        "%pip install numpy==1.23.3 --quiet --ignore-installed\n",
        "%pip install gymnasium --quiet\n",
        "%pip install torch --quiet\n",
        "%pip install matplotlib --quiet\n",
        "%pip uninstall seaborn -y --quiet\n",
        "%pip install seaborn --quiet\n",
        "#!pip install trfl --quiet\\n\""
      ]
    },
    {
      "cell_type": "code",
      "execution_count": 3,
      "metadata": {
        "id": "pEza9W8KDK1y"
      },
      "outputs": [],
      "source": [
        "# @title Imports\n",
        "import numpy as np\n",
        "from numpy.random import default_rng\n",
        "import gymnasium as gym\n",
        "from gymnasium import spaces\n",
        "import torch\n",
        "from torch import nn\n",
        "import matplotlib.pyplot as plt\n",
        "import seaborn as sns"
      ]
    },
    {
      "cell_type": "markdown",
      "metadata": {},
      "source": [
        "## Figure settings"
      ]
    },
    {
      "cell_type": "code",
      "execution_count": null,
      "metadata": {
        "cellView": "form",
        "id": "Zb0JSXLiECA6"
      },
      "outputs": [],
      "source": [
        "# @title Figure settings\n",
        "from IPython.display import clear_output, display, HTML\n",
        "%matplotlib inline\n",
        "sns.set()"
      ]
    },
    {
      "cell_type": "markdown",
      "metadata": {},
      "source": [
        "---\n",
        "# Background\n",
        "\n",
        "## Replace with our own literature review\n",
        "\n",
        "- Cognitive scientists use standard lab tests to tap into specific processes in the brain and behavior. Some examples of those tests are Stroop, N-back, Digit Span, TMT (Trail making tests), and WCST (Wisconsin Card Sorting Tests).\n",
        "\n",
        "- Despite an extensive body of research that explains human performance using descriptive what-models, we still need a more sophisticated approach to gain a better understanding of the underlying processes (i.e., a how-model).\n",
        "\n",
        "- Interestingly, many of such tests can be thought of as a continuous stream of stimuli and corresponding actions, that is in consonant with the RL formulation. In fact, RL itself is in part motivated by how the brain enables goal-directed behaviors using reward systems, making it a good choice to explain human performance.\n",
        "\n",
        "- One behavioral test example would be the N-back task.\n",
        "\n",
        "  - In the N-back, participants view a sequence of stimuli, one by one, and are asked to categorize each stimulus as being either match or non-match. Stimuli are usually numbers, and feedback is given at both timestep and trajectory levels.\n",
        "\n",
        "  - The agent is rewarded when its response matches the stimulus that was shown N steps back in the episode. A simpler version of the N-back uses two-choice action schema, that is match vs non-match. Once the present stimulus matches the one presented N step back, then the agent is expected to respond to it as being a `match`.\n",
        "\n",
        "\n",
        "- Given a trained RL agent, we then find correlates of its fitted parameters with the brain mechanisms. The most straightforward composition could be the correlation of model parameters with the brain activities."
      ]
    },
    {
      "cell_type": "markdown",
      "metadata": {},
      "source": [
        "## Datasets\n",
        "\n",
        "- Human Connectome Project Working Memory (HCP WM) task ([NMA-CN HCP notebooks](https://github.com/NeuromatchAcademy/course-content/tree/master/projects/fMRI))\n",
        "\n",
        "1200 subjects, each subject experience 8 blocks of 2-back and 8 blocks of 0-back.\n",
        "\n",
        "## N-back Tasks\n",
        "\n",
        "In the N-back task, participants view a sequence of stimuli, one per time, and are asked to categorize each stimulus as being either match or non-match. Stimuli are usually numbers, and feedbacks are given at both timestep and trajectory levels.\n",
        "\n",
        "In a typical neuro setup, both accuracy and response time are measured, but here, for the sake of brevity, we focus only on accuracy of responses.\n",
        "\n",
        "- 2 back working memory task:\n",
        "\n",
        "The second condition is a 2-Back condition. During such a block, the subject is presented with a sequence of 10 images and must respond if each image is identical to the one 2 positions earlier or not (figure, right). At the beginning of the block there is a cue screen informing the subject that the upcoming stimuli are part of the 2-Back protocol. The timing of the cue screen, the presentation of the 10 stimulus images and of the response interval are identical to that of the 0-Back condition.\n",
        "\n",
        "- 0-back control memory task:\n",
        "\n",
        "The first is a match-to-sample condition (termed in the following text as 0-Back) during which a cue “Target” image is presented at the beginning of a block and which the subject has been instructed to memorize. Then a sequence of 10 images is presented. \n",
        "\n",
        "\n",
        "Any dataset that used cognitive tests would work.\n",
        "Question: limit to behavioral data vs fMRI?\n",
        "Question: Which stimuli and actions to use?\n",
        "classic tests can be modeled using 1) bounded symbolic stimuli/actions (e.g., A, B, C), but more sophisticated one would require texts or images (e.g., face vs neutral images in social stroop dataset)\n",
        "The HCP dataset from NMA-CN contains behavioral and imaging data for 7 cognitive tests including various versions of N-back.\n",
        "\n",
        "\n",
        "Details of the tMEG Working Memory task\n",
        "\n",
        "Working memory is assessed using an N-back task in which participants are asked to monitor\n",
        "sequentially presented pictures. Participants are presented with blocks of trials that consisted of\n",
        "pictures of tools or faces. Within each run, the 2 different stimulus types are presented in\n",
        "separate blocks. Also, within each run, ½ of the blocks use a 2-back working memory task and\n",
        "½ use a 0-back working memory task (as a working memory comparison). Participants are\n",
        "instructed to press a button for every picture. If the currently presented picture matches the\n",
        "cued picture (0-Back) or the same picture that was presented two pictures before (2-Back),\n",
        "subjects press one button with their right index finger. For non-matching pictures, participants\n",
        "press a second button with their right middle finger. Two runs are performed, 16 blocks each,\n",
        "with a bright fixation \"rest\" on dark background for 15 seconds between blocks. \n",
        "\n",
        "- Special modelling of images (we are probably not going to model this)\n",
        "\n",
        "There are 2 different categories of images used in this experiment: images of faces and tools.\n",
        "Each block contains images from a single category. Some of the images in the non-matched\n",
        "trials have been characterized as “Lure”. These images have been selected so that they have\n",
        "common features with the target image, but are still different. These trials as flagged as “Lure”.\n",
        "I\n",
        "\n",
        "\n",
        "https://www.humanconnectome.org/storage/app/media/documentation/s1200/HCP_S1200_Release_Reference_Manual.pdf Page 72"
      ]
    },
    {
      "cell_type": "markdown",
      "metadata": {
        "id": "ddUxN-0M-842"
      },
      "source": [
        "---\n",
        "## Implementation scheme"
      ]
    },
    {
      "cell_type": "markdown",
      "metadata": {},
      "source": [
        "### Environment\n",
        "\n",
        "The following cell implments N-back envinronment, that we later use to train a RL agent on human data. It is capable of performing two kinds of simulation:\n",
        "- rewards the agent once the action was correct (i.e., a normative model of the environment).\n",
        "- receives human data (or mock data if you prefer), and returns what participants performed as the observation. This is more useful for preference-based RL."
      ]
    },
    {
      "cell_type": "code",
      "execution_count": 5,
      "metadata": {
        "id": "0-62uNYF-_9j"
      },
      "outputs": [],
      "source": [
        "# @title Define environment\n",
        "# N-back environment\n",
        "class NBack(gym.Env):\n",
        "\n",
        "    # Examples\n",
        "    # N = 2\n",
        "    # step_count =        [ 0  1  2  3  4  5  6 ]\n",
        "    # sequence =          [ a  b  c  d  a  d  a ] (except these are usually digits between 0-9)\n",
        "    # correct actions =   [ ~  ~  0  0  0  1  1 ]\n",
        "\n",
        "    # actions =           [ ~  ~   1  0  0  1  0 ]\n",
        "    # reward_class =      [ ~  ~  FP TN TN TP FN]\n",
        "    # reward =            [ ~  ~  -1  0  0  1 -1]\n",
        "\n",
        "  # Rewards input is structured as (TP, TN, FP, FN) (positive being matches)\n",
        "  def __init__(self, N=2, num_trials=25, num_targets=None, rewards=(1, 1, -1, -1), obs_length=1, seed=2023):\n",
        "\n",
        "    self.N = N\n",
        "    self.num_trials = num_trials\n",
        "    self.episode_length = num_trials + self.N\n",
        "    self.num_targets = num_targets\n",
        "    self.rewards = rewards\n",
        "    self.obs_length = obs_length\n",
        "    super().reset(seed=seed)\n",
        "\n",
        "    # Check that parameters are legal\n",
        "    assert(len(rewards) == 4)\n",
        "    assert(num_targets is None or num_targets <= num_trials)\n",
        "\n",
        "    # Define rewards, observation space and action space \n",
        "    self.reward_range = (min(rewards), max(rewards))  # Range of rewards based on inputs\n",
        "    self.observation_space = spaces.Discrete(10)      # Single variable with 10 possibilities if using digits or 26 if using letters\n",
        "    self.action_space = spaces.Discrete(2)            # 0 (No match) or 1 (Match)\n",
        "\n",
        "  def reset(self, seed=None):\n",
        "\n",
        "    # Seed RNG\n",
        "    super().reset(seed=seed)\n",
        "\n",
        "    # Generate sequence and correct actions\n",
        "    self._generate_sequence()\n",
        "    self._get_correct_actions()\n",
        "\n",
        "    # Observation is first character\n",
        "    self.step_count = 0\n",
        "    observation = self._get_observation()\n",
        "    \n",
        "\n",
        "    return observation, self.step_count, None, False\n",
        "\n",
        "  def step(self, action):\n",
        "\n",
        "    # Calculate reward\n",
        "    if self.step_count >= self.N:\n",
        "      if (self.correct_actions[self.step_count - self.N]): # Match\n",
        "        reward = self.rewards[0] if action else self.rewards[3] # TP if matched else FN\n",
        "      else: # No match\n",
        "        reward = self.rewards[2] if action else self.rewards[1] # FP if matches else TN\n",
        "    else:\n",
        "      reward = None\n",
        "\n",
        "    # Return next character or None\n",
        "    self.step_count += 1\n",
        "    if self.step_count < self.episode_length:\n",
        "      return self._get_observation(), self.step_count, reward, False\n",
        "    else:\n",
        "      return None, self.step_count, reward, True\n",
        "\n",
        "  def _generate_sequence(self):\n",
        "\n",
        "    # Generate sequence of length self.episode_length (with correct number of targets)\n",
        "    while True:\n",
        "      self.sequence = np.random.randint(0, 9, size=(self.episode_length))\n",
        "      if not self.num_targets or sum(self._get_correct_actions()) == self.num_targets:\n",
        "        break\n",
        "  def _get_observation(self):\n",
        "\n",
        "    if self.step_count < self.obs_length:\n",
        "      observation = np.concatenate((np.zeros(self.obs_length - self.step_count - 1, dtype=int), self.sequence[:self.step_count + 1]))\n",
        "    else:\n",
        "      observation = self.sequence[self.step_count + 1 - self.obs_length : self.step_count + 1]\n",
        "\n",
        "    return observation\n",
        "\n",
        "  def _get_correct_actions(self):\n",
        "    self.correct_actions = np.array([int(self.sequence[i] == self.sequence[i + self.N]) for i in range(self.num_trials)])\n",
        "    return self.correct_actions\n"
      ]
    },
    {
      "cell_type": "code",
      "execution_count": 7,
      "metadata": {
        "cellView": "form",
        "id": "buTmgeVJe78z"
      },
      "outputs": [
        {
          "name": "stdout",
          "output_type": "stream",
          "text": [
            "[6 1 8 7 4 6 0 8 8 8 1 2]\n",
            "0 [6]\n",
            "1 [1]\n",
            "2 [8]\n",
            "3 [7]\n",
            "4 [4]\n",
            "5 [6]\n",
            "6 [0]\n",
            "7 [8]\n",
            "8 [8]\n",
            "9 [8]\n",
            "10 [1]\n",
            "11 [2]\n",
            "12 None\n"
          ]
        }
      ],
      "source": [
        "# Test environment\n",
        "\n",
        "env = NBack(N=2, num_trials=10, obs_length=1)\n",
        "obs, _, _, done = env.reset()\n",
        "print(env.sequence)\n",
        "print(env.step_count, obs)\n",
        "while not done:\n",
        "  obs, _, _, done = env.step(0)\n",
        "\n",
        "  print(env.step_count, obs)"
      ]
    },
    {
      "cell_type": "markdown",
      "metadata": {},
      "source": [
        "### Define a random agent"
      ]
    },
    {
      "cell_type": "code",
      "execution_count": 11,
      "metadata": {},
      "outputs": [],
      "source": [
        "# Random agent\n",
        "class RandomAgent(nn.Module):\n",
        "    \n",
        "    def __init__(self, env):\n",
        "        super().__init__()\n",
        "        self.env = env\n",
        "\n",
        "    # Choose a random action, 0 or 1\n",
        "    def choose_action(self, seq):\n",
        "        return np.random.randint(0, 2)\n",
        "\n",
        "    def test(self, num_episodes):\n",
        "        \n",
        "        # Arrays to hold true/false positives and false negatives\n",
        "        tps = np.zeros(num_episodes)\n",
        "        fps = np.zeros_like(tps)\n",
        "        fns = np.zeros_like(tps)\n",
        "\n",
        "        for i in range(num_episodes):\n",
        "            \n",
        "            # Array of actions\n",
        "            actions = np.zeros(self.env.episode_length, dtype=int)\n",
        "\n",
        "            # Perform action for each element in sequence\n",
        "            seq, step_count, _, done = self.env.reset()\n",
        "            while not done:\n",
        "                action = self.choose_action(seq)\n",
        "                actions[step_count] = action\n",
        "                seq, step_count, _, done = self.env.step(action)\n",
        "            \n",
        "            # Get episode data\n",
        "            actions = actions[self.env.N:]\n",
        "            correct_actions = self.env.correct_actions\n",
        "            tps[i] = np.dot(actions, correct_actions) \n",
        "            fps[i] = np.dot(actions, 1 - correct_actions)\n",
        "            fns[i] = np.dot(1 - actions, correct_actions)\n",
        "\n",
        "        return tps, fps, fns"
      ]
    },
    {
      "cell_type": "code",
      "execution_count": 14,
      "metadata": {},
      "outputs": [
        {
          "data": {
            "image/png": "[encoded data removed]",
            "text/plain": [
              "<Figure size 1200x400 with 3 Axes>"
            ]
          },
          "metadata": {},
          "output_type": "display_data"
        }
      ],
      "source": [
        "# @title Test random agent\n",
        "# Create environment, random agent and test\n",
        "N = 2\n",
        "n = 25\n",
        "T = 5\n",
        "env = NBack(N=2, num_trials=n, num_targets=T)\n",
        "agent = RandomAgent(env=env)\n",
        "results = agent.test(10000)\n",
        "\n",
        "fig = plt.figure(figsize=(12, 4))\n",
        "plt.subplot(1, 3, 1)\n",
        "fig.suptitle(f\"Random agent with N={N}, n={n}, T={T}\")\n",
        "sns.histplot(results[0], stat=\"density\", bins=4, discrete=True)\n",
        "plt.axvline(T/2, color='r', linestyle='--')\n",
        "plt.xlabel('True positives')\n",
        "\n",
        "plt.subplot(1, 3, 2)\n",
        "sns.histplot(results[1], stat=\"density\", bins=17, discrete=True)\n",
        "plt.axvline((n-T)/2, color='r', linestyle='--')\n",
        "plt.xlabel('False positives')\n",
        "plt.ylabel('')\n",
        "\n",
        "plt.subplot(1, 3, 3)\n",
        "sns.histplot(results[2], stat=\"density\", bins=4, discrete=True)\n",
        "plt.axvline(T/2, color='r', linestyle='--')\n",
        "plt.xlabel('False negatives')\n",
        "plt.ylabel('')\n",
        "plt.show()"
      ]
    },
    {
      "cell_type": "markdown",
      "metadata": {},
      "source": [
        "### Define a simple Q-learning agent"
      ]
    },
    {
      "cell_type": "code",
      "execution_count": null,
      "metadata": {},
      "outputs": [],
      "source": [
        "# Neural network representing the Q-function\n",
        "class DQN(nn.module):\n",
        "  def __init__(self, num_obs, num_actions, hidden_sizes=[], actv=\"ReLU()\"):\n",
        "    super().__init__()\n",
        "\n",
        "    self.num_obs = num_obs\n",
        "    self.num_actions = num_actions\n",
        "    self.hidden_sizes = hidden_sizes\n",
        "    self.mlp = nn.Sequential()\n",
        "\n",
        "    # Create net\n",
        "    prev_size = self.num_obs # Initialize the temporary input feature to each layer\n",
        "    for i in range(len(hidden_sizes)): # Loop over layers and create each one\n",
        "        \n",
        "        # Add linear layer\n",
        "        current_size = hidden_sizes[i] # Assign the current layer hidden unit from list\n",
        "        layer = nn.Linear(prev_size, current_size)\n",
        "        prev_size = current_size # Assign next layer input using current layer output\n",
        "        self.mlp.add_module('Linear_%d'%i, layer) # Append layer to the model\n",
        "\n",
        "        # Add activation function\n",
        "        actv_layer = eval('nn.%s'%actv) # Assign activation function (eval allows us to instantiate object from string)\n",
        "        self.mlp.add_module('Activation_%d'%i, actv_layer) # Append activation to the model with a name\n",
        "\n",
        "    out_layer = nn.Linear(prev_size, self.num_actions) # Create final layer\n",
        "    self.mlp.add_module('Output_Linear', out_layer) # Append the final layer\n",
        "\n",
        "  def forward(self, x):\n",
        "    return self.mlp(x)"
      ]
    },
    {
      "cell_type": "code",
      "execution_count": null,
      "metadata": {},
      "outputs": [],
      "source": [
        "class QLearningAgent():\n",
        "    \n",
        "    def __init__(self, env):\n",
        "        \n",
        "        self.env = env\n",
        "        self.num_obs = env.memory\n",
        "        self.num_actions = 2\n",
        "\n",
        "        self.q_network = DQN()\n",
        "\n",
        "        # Softmax layer\n",
        "        softmax_layer = nn.Softmax()\n",
        "        self.mlp.add_module('Output_Softmax', softmax_layer)\n",
        "\n",
        "    def forward(self, x):\n",
        "\n",
        "        # Do we need to reshape?\n",
        "        input = torch.Tensor(x)\n",
        "        return self.mlp(input)\n",
        "\n",
        "    def choose_action(self, seq):\n",
        "\n",
        "        # Run sequence through network\n",
        "        output = self.forward(seq)\n",
        "        # Choose highest likelihood action\n",
        "        return np.argmax(output.detach())\n",
        "\n",
        "\n",
        "    def train(self, num_episodes):\n",
        "\n",
        "        for i in range(num_episodes):\n",
        "\n",
        "            # Array of actions\n",
        "            actions = np.zeros(self.env.episode_length, dtype=int)\n",
        "\n",
        "            # Reset environment\n",
        "            seq, step_count, _, done = self.env.reset()\n",
        "\n",
        "            while not done:\n",
        "\n",
        "                # Choose action and recieve reward\n",
        "                action = self.choose_action(seq)\n",
        "                actions[step_count] = action\n",
        "                seq, step_count, reward, done = self.env.step(action)\n",
        "\n",
        "                # Use reward to update network\n",
        "\n"
      ]
    },
    {
      "cell_type": "markdown",
      "metadata": {},
      "source": [
        "### Define a Recurrent Deep Q-learning Agent (RDQN)"
      ]
    },
    {
      "cell_type": "code",
      "execution_count": null,
      "metadata": {},
      "outputs": [],
      "source": []
    },
    {
      "cell_type": "markdown",
      "metadata": {
        "id": "OaBV8Quh-ypJ"
      },
      "source": [
        "# Section 4: Model(s)"
      ]
    },
    {
      "cell_type": "code",
      "execution_count": 2,
      "metadata": {
        "id": "Q7TAlHUZLjnc"
      },
      "outputs": [
        {
          "ename": "SyntaxError",
          "evalue": "unexpected EOF while parsing (3220473413.py, line 4)",
          "output_type": "error",
          "traceback": [
            "\u001b[0;36m  File \u001b[0;32m\"/var/folders/g4/tfd3sjg137dg4c41qxh6l7zw0000gn/T/ipykernel_47468/3220473413.py\"\u001b[0;36m, line \u001b[0;32m4\u001b[0m\n\u001b[0;31m    \u001b[0m\n\u001b[0m    ^\u001b[0m\n\u001b[0;31mSyntaxError\u001b[0m\u001b[0;31m:\u001b[0m unexpected EOF while parsing\n"
          ]
        }
      ],
      "source": [
        "# Random agent\n",
        "class RandomAgent(nn.Module):\n",
        "    \n",
        "    "
      ]
    },
    {
      "cell_type": "code",
      "execution_count": null,
      "metadata": {
        "id": "Y-y_Z8yu_-1v"
      },
      "outputs": [],
      "source": [
        "# RNN\n",
        "\n",
        "class LayeredRNN(nn.Module)"
      ]
    }
  ],
  "metadata": {
    "colab": {
      "provenance": []
    },
    "kernelspec": {
      "display_name": "nma",
      "language": "python",
      "name": "python3"
    },
    "language_info": {
      "codemirror_mode": {
        "name": "ipython",
        "version": 3
      },
      "file_extension": ".py",
      "mimetype": "text/x-python",
      "name": "python",
      "nbconvert_exporter": "python",
      "pygments_lexer": "ipython3",
      "version": "3.11.4"
    }
  },
  "nbformat": 4,
  "nbformat_minor": 0
}
